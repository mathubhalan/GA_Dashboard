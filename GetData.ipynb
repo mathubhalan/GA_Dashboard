{
 "cells": [
  {
   "cell_type": "markdown",
   "metadata": {},
   "source": [
    "##Dear User, Welcome to the interactive notebook to get the data from Gogole Analytics.## \n",
    "Follow the below steps.\n",
    "1. Enter the View ID, metrics and Dimensions that needs to be extracted\n",
    "2. Refer the [Link](https://developers.google.com/analytics/devguides/reporting/core/dimsmets#cats=user,session,traffic_sources) to see what are valid combination of metrics and dimension\n",
    "3. Once you have entre the data, press Play icon on top of the page to get the data\n",
    "4. The data would be loaded in a SFTP location.\n"
   ]
  },
  {
   "cell_type": "code",
   "execution_count": 2,
   "metadata": {},
   "outputs": [],
   "source": [
    "#enter the viewid to get data\n",
    "Views = '172386207'\n",
    "#Enter the metrics\n",
    "Metrics = [{'expression': 'ga:pageviews'},\n",
    "           {'expression': 'ga:uniquePageviews'},\n",
    "           {'expression': 'ga:timeOnPage'},\n",
    "           {'expression': 'ga:bounces'},\n",
    "           {'expression': 'ga:entrances'},\n",
    "           {'expression': 'ga:exits'}]\n",
    "#Enter the Dimension\n",
    "Dimenson = [{\"name\": \"ga:pagePath\"},\n",
    "            {\"name\": \"ga:source\"}]\n",
    "\n",
    "#Enter the date Range - update the date field in yyy-mm-dd format\n",
    "DateRange = [{\"startDate\": \"2018-10-01\", \"endDate\": \"2018-10-30\"}]\n",
    "\n"
   ]
  },
  {
   "cell_type": "code",
   "execution_count": 3,
   "metadata": {},
   "outputs": [
    {
     "name": "stdout",
     "output_type": "stream",
     "text": [
      "                                         ga:pagePath ga:source ga:pageviews  \\\n",
      "0  /cf-consumer-healthcare/health-professionals/e...  (direct)            1   \n",
      "1                                       /contact-us/  (direct)           11   \n",
      "2                                       /contact-us/    google            9   \n",
      "3  /content/cf-consumer-healthcare/health-profess...  (direct)           12   \n",
      "4  /content/cf-consumer-healthcare/health-profess...    google            5   \n",
      "\n",
      "  ga:uniquePageviews ga:timeOnPage ga:bounces ga:entrances ga:exits  \n",
      "0                  1           9.0          0            0        0  \n",
      "1                 11         713.0          0            1        5  \n",
      "2                  4        1106.0          0            0        0  \n",
      "3                  8         419.0          0            0        5  \n",
      "4                  5          28.0          0            0        2  \n",
      "                                         ga:pagePath ga:source ga:pageviews  \\\n",
      "0  /cf-consumer-healthcare/health-professionals/e...  (direct)            1   \n",
      "1                                       /contact-us/  (direct)           11   \n",
      "2                                       /contact-us/    google            9   \n",
      "3  /content/cf-consumer-healthcare/health-profess...  (direct)           12   \n",
      "4  /content/cf-consumer-healthcare/health-profess...    google            5   \n",
      "\n",
      "  ga:uniquePageviews ga:timeOnPage ga:bounces ga:entrances ga:exits  \n",
      "0                  1           9.0          0            0        0  \n",
      "1                 11         713.0          0            1        5  \n",
      "2                  4        1106.0          0            0        0  \n",
      "3                  8         419.0          0            0        5  \n",
      "4                  5          28.0          0            0        2  \n"
     ]
    }
   ],
   "source": [
    "#Execute the below fucntion\n",
    "import helper as h\n",
    "h.pull_data(Views,Dimenson,Metrics,DateRange)"
   ]
  }
 ],
 "metadata": {
  "kernelspec": {
   "display_name": "Python 3",
   "language": "python",
   "name": "python3"
  },
  "language_info": {
   "codemirror_mode": {
    "name": "ipython",
    "version": 3
   },
   "file_extension": ".py",
   "mimetype": "text/x-python",
   "name": "python",
   "nbconvert_exporter": "python",
   "pygments_lexer": "ipython3",
   "version": "3.6.7"
  }
 },
 "nbformat": 4,
 "nbformat_minor": 2
}
