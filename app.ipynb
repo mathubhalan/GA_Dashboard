{
 "cells": [
  {
   "cell_type": "code",
   "execution_count": 1,
   "metadata": {},
   "outputs": [],
   "source": [
    "import pandas as pd\n",
    "import numpy as np"
   ]
  },
  {
   "cell_type": "code",
   "execution_count": 2,
   "metadata": {},
   "outputs": [],
   "source": [
    "from flask import Flask, render_template, request"
   ]
  },
  {
   "cell_type": "code",
   "execution_count": 3,
   "metadata": {},
   "outputs": [],
   "source": [
    "import helper as h"
   ]
  },
  {
   "cell_type": "code",
   "execution_count": 4,
   "metadata": {},
   "outputs": [],
   "source": [
    "app=Flask(__name__)"
   ]
  },
  {
   "cell_type": "code",
   "execution_count": 5,
   "metadata": {},
   "outputs": [],
   "source": [
    "def dimlist(dim):\n",
    "    Dimension=[]\n",
    "    for i in dim:\n",
    "        Dimension.append({\"name\": i})\n",
    "    return Dimension"
   ]
  },
  {
   "cell_type": "code",
   "execution_count": 6,
   "metadata": {},
   "outputs": [],
   "source": [
    "def metlist(met):\n",
    "    Metric=[]\n",
    "    for i in met:\n",
    "        Metric.append({'expression': i})\n",
    "    return Metric"
   ]
  },
  {
   "cell_type": "code",
   "execution_count": 7,
   "metadata": {
    "scrolled": true
   },
   "outputs": [],
   "source": [
    "@app.route('/', methods=['GET','POST'])\n",
    "@app.route('/homepg', methods=['GET','POST'])\n",
    "def homepg():\n",
    "    if request.method=='POST':\n",
    "        viewid=request.form['viewid']\n",
    "        dim=(request.form.getlist('dim'))\n",
    "        met=(request.form.getlist('met'))\n",
    "        stdate=request.form['stdate']\n",
    "        eddate=request.form['eddate']\n",
    "        DateRange = [{\"startDate\": stdate, \"endDate\": eddate}]\n",
    "        Dimension=dimlist(dim)\n",
    "        Metric=metlist(met)\n",
    "        print (viewid, Dimension, Metric, DateRange)\n",
    "        h.pull_data(viewid, Dimension, Metric, DateRange)\n",
    "    return render_template('D:/POC/Google_Dash/templates/home.html')"
   ]
  },
  {
   "cell_type": "code",
   "execution_count": null,
   "metadata": {
    "scrolled": false
   },
   "outputs": [
    {
     "name": "stdout",
     "output_type": "stream",
     "text": [
      " * Serving Flask app \"__main__\" (lazy loading)\n",
      " * Environment: production\n",
      "   WARNING: Do not use the development server in a production environment.\n",
      "   Use a production WSGI server instead.\n",
      " * Debug mode: off\n"
     ]
    },
    {
     "name": "stderr",
     "output_type": "stream",
     "text": [
      " * Running on http://127.0.0.1:5000/ (Press CTRL+C to quit)\n"
     ]
    }
   ],
   "source": [
    "if __name__==\"__main__\":\n",
    "    app.run()"
   ]
  },
  {
   "cell_type": "code",
   "execution_count": null,
   "metadata": {},
   "outputs": [],
   "source": []
  }
 ],
 "metadata": {
  "kernelspec": {
   "display_name": "Python 3",
   "language": "python",
   "name": "python3"
  },
  "language_info": {
   "codemirror_mode": {
    "name": "ipython",
    "version": 3
   },
   "file_extension": ".py",
   "mimetype": "text/x-python",
   "name": "python",
   "nbconvert_exporter": "python",
   "pygments_lexer": "ipython3",
   "version": "3.6.7"
  }
 },
 "nbformat": 4,
 "nbformat_minor": 2
}
