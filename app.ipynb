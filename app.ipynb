{
 "cells": [
  {
   "cell_type": "code",
   "execution_count": 2,
   "metadata": {},
   "outputs": [],
   "source": [
    "import pandas as pd\n",
    "import numpy as np"
   ]
  },
  {
   "cell_type": "code",
   "execution_count": 2,
   "metadata": {},
   "outputs": [],
   "source": [
    "from flask import Flask, render_template, request"
   ]
  },
  {
   "cell_type": "code",
   "execution_count": 3,
   "metadata": {},
   "outputs": [],
   "source": [
    "#import helper as h"
   ]
  },
  {
   "cell_type": "code",
   "execution_count": 4,
   "metadata": {},
   "outputs": [],
   "source": [
    "app=Flask(__name__)"
   ]
  },
  {
   "cell_type": "code",
   "execution_count": 5,
   "metadata": {},
   "outputs": [],
   "source": [
    "def dimlist(dim):\n",
    "    Dimension=[]\n",
    "    for i in dim:\n",
    "        Dimension.append({\"name\": i})\n",
    "    return Dimension"
   ]
  },
  {
   "cell_type": "code",
   "execution_count": 6,
   "metadata": {},
   "outputs": [],
   "source": [
    "def metlist(met):\n",
    "    Metric=[]\n",
    "    for i in met:\n",
    "        Metric.append({'expression': i})\n",
    "    return Metric"
   ]
  },
  {
   "cell_type": "code",
   "execution_count": 7,
   "metadata": {
    "scrolled": true
   },
   "outputs": [],
   "source": [
    "@app.route('/', methods=['GET','POST'])\n",
    "@app.route('/homepg', methods=['GET','POST'])\n",
    "def homepg():\n",
    "    if request.method=='POST':\n",
    "        viewid=request.form['viewid']\n",
    "        viewid_list=[x.strip() for x in viewid.split(',')]\n",
    "        dim=(request.form.getlist('dim'))\n",
    "        met=(request.form.getlist('met'))\n",
    "        stdate=request.form['stdate']\n",
    "        eddate=request.form['eddate']\n",
    "        DateRange = [{\"startDate\": stdate, \"endDate\": eddate}]\n",
    "        Dimension=dimlist(dim)\n",
    "        Metric=metlist(met)\n",
    "        frames=[]\n",
    "        for i in viewid_list:\n",
    "            print (i, Dimension, Metric, DateRange)\n",
    "            df=h.pull_data(i, Dimension, Metric, DateRange)\n",
    "            frames.append(df)\n",
    "        result = pd.concat(frames)\n",
    "        result.reset_index(drop='True')\n",
    "        df.to_csv('output.csv', sep='\\t', encoding='utf-8')\n",
    "    return render_template('home.html')"
   ]
  },
  {
   "cell_type": "code",
   "execution_count": null,
   "metadata": {
    "scrolled": true
   },
   "outputs": [
    {
     "name": "stderr",
     "output_type": "stream",
     "text": [
      " * Running on http://127.0.0.1:5000/ (Press CTRL+C to quit)\n",
      "127.0.0.1 - - [03/Dec/2018 11:06:00] \"\u001b[37mGET / HTTP/1.1\u001b[0m\" 200 -\n",
      "127.0.0.1 - - [03/Dec/2018 11:06:14] \"\u001b[37mPOST /homepg HTTP/1.1\u001b[0m\" 200 -\n"
     ]
    },
    {
     "name": "stdout",
     "output_type": "stream",
     "text": [
      "77777 [{'name': 'ga:hostname'}, {'name': 'ga:pagePath'}, {'name': 'ga:pagePathLevel1'}] [{'expression': 'ga:sessions'}, {'expression': 'ga:bounces'}, {'expression': 'ga:bounceRate'}] [{'startDate': '2018-12-12', 'endDate': '12/12/2020'}]\n",
      "899999 [{'name': 'ga:hostname'}, {'name': 'ga:pagePath'}, {'name': 'ga:pagePathLevel1'}] [{'expression': 'ga:sessions'}, {'expression': 'ga:bounces'}, {'expression': 'ga:bounceRate'}] [{'startDate': '2018-12-12', 'endDate': '12/12/2020'}]\n",
      "77777 [{'name': 'ga:hostname'}, {'name': 'ga:pagePath'}, {'name': 'ga:pagePathLevel1'}] [{'expression': 'ga:sessions'}, {'expression': 'ga:bounces'}, {'expression': 'ga:bounceRate'}] [{'startDate': '2018-12-12', 'endDate': '12/12/2020'}]\n"
     ]
    }
   ],
   "source": [
    "if __name__==\"__main__\":\n",
    "    app.run()"
   ]
  }
 ],
 "metadata": {
  "kernelspec": {
   "display_name": "Python 3",
   "language": "python",
   "name": "python3"
  },
  "language_info": {
   "codemirror_mode": {
    "name": "ipython",
    "version": 3
   },
   "file_extension": ".py",
   "mimetype": "text/x-python",
   "name": "python",
   "nbconvert_exporter": "python",
   "pygments_lexer": "ipython3",
   "version": "3.6.7"
  }
 },
 "nbformat": 4,
 "nbformat_minor": 2
}
